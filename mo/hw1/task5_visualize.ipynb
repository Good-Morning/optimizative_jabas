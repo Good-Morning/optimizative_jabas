{
 "cells": [
  {
   "cell_type": "code",
   "execution_count": 2,
   "metadata": {},
   "outputs": [],
   "source": [
    "import task5 as t5"
   ]
  },
  {
   "cell_type": "markdown",
   "metadata": {
    "collapsed": false,
    "pycharm": {
     "name": "#%% md\n"
    }
   },
   "source": [
    "#### 5.2 Тестируемая функция из пункта **2.2**. Точка минимума функции согласно методу Ньютона:"
   ]
  },
  {
   "cell_type": "code",
   "execution_count": 3,
   "metadata": {},
   "outputs": [],
   "source": [
    "def paraboloid(x, y):\n",
    "    return (x - 3) ** 2 + y ** 2"
   ]
  },
  {
   "cell_type": "code",
   "execution_count": 4,
   "metadata": {},
   "outputs": [
    {
     "name": "stdout",
     "output_type": "stream",
     "text": "x_min = 3.0\ny_min = 4.336808689942018e-19\niter_num = 1\n"
    }
   ],
   "source": [
    "x0 = -112314134000\n",
    "y0 = 11234123400000\n",
    "eps = 1e-5\n",
    "max_iter_num = 100\n",
    "\n",
    "min_v, iter_num = t5.newton_descent(paraboloid, x0, y0, eps=eps, max_iter_num=max_iter_num)\n",
    "\n",
    "print('x_min = {}'.format(min_v[0]))\n",
    "print('y_min = {}'.format(min_v[1]))\n",
    "print('iter_num = {}'.format(iter_num))\n"
   ]
  }
 ],
 "metadata": {
  "kernelspec": {
   "display_name": "Python 3",
   "language": "python",
   "name": "python3"
  },
  "language_info": {
   "codemirror_mode": {
    "name": "ipython",
    "version": 2
   },
   "file_extension": ".py",
   "mimetype": "text/x-python",
   "name": "python",
   "nbconvert_exporter": "python",
   "pygments_lexer": "ipython2",
   "version": "3.6.5-final"
  },
  "pycharm": {
   "stem_cell": {
    "cell_type": "raw",
    "source": [],
    "metadata": {
     "collapsed": false
    }
   }
  }
 },
 "nbformat": 4,
 "nbformat_minor": 0
}